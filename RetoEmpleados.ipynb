{
 "cells": [
  {
   "cell_type": "code",
   "execution_count": 191,
   "id": "6f1deb92-b27e-49f4-b998-1872775d642b",
   "metadata": {},
   "outputs": [
    {
     "name": "stdout",
     "output_type": "stream",
     "text": [
      "Varianza explicada\n",
      "[0.31594421 0.11902983 0.10376354 0.08964687 0.08280698 0.07824374\n",
      " 0.07778641 0.05194088 0.04321743 0.01914198 0.01453685 0.00394128]\n"
     ]
    }
   ],
   "source": [
    "############################################\n",
    "#-----Reto: Deserción de empleados-------- #\n",
    "# Elaborado por:Claudia Aranda Roque       #\n",
    "# Fecha: 07-08-2024                        #\n",
    "############################################\n",
    "\n",
    "\n",
    "# P R O C E S O:\n",
    "#1. Librerias Requeridas\n",
    "import pandas as pd\n",
    "from datetime import datetime\n",
    "from sklearn.preprocessing import OneHotEncoder \n",
    "from sklearn.preprocessing import LabelBinarizer\n",
    "from sklearn.preprocessing import LabelEncoder\n",
    "from sklearn.preprocessing import StandardScaler\n",
    "from sklearn.decomposition import PCA\n",
    "#2. Leer archivo CSV\n",
    "EmpleadosAttrition = pd.read_csv('/Users/macbook/Documents/claudia personal/learning gate/Ingenieria de conceptos/Final/empleadosRETO.csv')\n",
    "#3. Eliminar columnas\n",
    "EmpleadosAttrition.drop(['EmployeeCount', 'EmployeeNumber','Over18','StandardHours'], axis=1, inplace=True)\n",
    "#4. Crear columnas\n",
    "EmpleadosAttrition['Year'] = EmpleadosAttrition['HiringDate'].str[-4:].astype(int)\n",
    "today = datetime.today()\n",
    "EmpleadosAttrition['YearsAtCompany'] =2018-EmpleadosAttrition['Year']\n",
    "#8. Renombrar columnas\n",
    "EmpleadosAttrition = EmpleadosAttrition.rename(columns={'DistanceFromHome':'DistanceFromHome_km'})\n",
    "#9. Crear nueva columna\n",
    "EmpleadosAttrition['DistanceFromHome'] =EmpleadosAttrition['DistanceFromHome_km'].str[:-3].astype(int)\n",
    "#10. Borrar columnas\n",
    "EmpleadosAttrition.drop(['DistanceFromHome_km', 'HiringDate','Year'], axis=1, inplace=True)\n",
    "#11. Nuevo Frame \n",
    "SueldoPromedioDepto = EmpleadosAttrition.groupby(['Department'])[['MonthlyIncome']].mean()\n",
    "SueldoPromedioDepto['SueldoPromedio']= EmpleadosAttrition.groupby(['Department'])[['MonthlyIncome']].mean()\n",
    "SueldoPromedioDepto.drop(['MonthlyIncome'], axis=1, inplace=True)\n",
    "SueldoPromedio = SueldoPromedioDepto\n",
    "#12. Escalar MonthlyIncome\n",
    "EmpleadosAttrition['MonthlyIncome'] = (EmpleadosAttrition['MonthlyIncome']-\n",
    "EmpleadosAttrition['MonthlyIncome'].min())/(EmpleadosAttrition['MonthlyIncome'].max()-\n",
    "EmpleadosAttrition['MonthlyIncome'].min())\n",
    "#13. Conversión de valores categóricas a numéricas\n",
    "col_int = ['BusinessTravel', 'Department', 'EducationField','Gender','JobRole','MaritalStatus','Attrition','OverTime']\n",
    "label_encoders = {}\n",
    "for column in col_int:\n",
    "    le = LabelEncoder()\n",
    "    EmpleadosAttrition[column] = le.fit_transform(EmpleadosAttrition[column])\n",
    "    label_encoders[column] = le\n",
    "#14. Calculo de correlación lineal\n",
    "correlation_attr= EmpleadosAttrition.corr()['Attrition'].drop('Attrition')\n",
    "#15. Selección de variables con correlación mayor o igual a 0.1\n",
    "EmpleadosAttritionFinal = EmpleadosAttrition.drop(['BusinessTravel','Department','Education', 'EducationField','Gender','JobRole','NumCompaniesWorked','PercentSalaryHike','PerformanceRating','RelationshipSatisfaction','TrainingTimesLastYear','WorkLifeBalance','YearsSinceLastPromotion','DistanceFromHome'], axis=1)\n",
    "#16. Nueva variable PCA\n",
    "scaler = StandardScaler()\n",
    "EmpleadosAttritionScaler = scaler.fit_transform(EmpleadosAttritionFinal)\n",
    "EmpleadosAttritionPCA = PCA()\n",
    "EmpleadosAttritionPCA.fit(EmpleadosAttritionScaler)\n",
    "print('Varianza explicada')\n",
    "explained_variance_ratio = EmpleadosAttritionPCA.explained_variance_ratio_\n",
    "print(explained_variance_ratio)\n",
    "# Inicializa la suma acumulativa y el contador de componentes\n",
    "cumulative_variance = 0\n",
    "n_components = 0\n",
    "# Itera sobre la varianza explicada por cada componente\n",
    "for i, variance in enumerate(explained_variance_ratio):\n",
    "    cumulative_variance += variance\n",
    "    n_components += 1\n",
    "    if cumulative_variance >= 0.80:\n",
    "        break\n",
    "pca = PCA(n_components=n_components)\n",
    "principal_components = pca.fit_transform(EmpleadosAttritionScaler)\n",
    "df_pca = pd.DataFrame(data=principal_components, columns=[f'PC{i+1}' for i in range(n_components)])\n",
    "EmpleadosAttritionFinal = EmpleadosAttritionFinal.assign(**df_pca)\n",
    "#18. Guardar en Archivo CSV\n",
    "EmpleadosAttritionFinal.to_csv('/Users/macbook/Documents/claudia personal/learning gate/Ingenieria de conceptos/Final/EmpleadosAttritionFinal.csv', index=False)"
   ]
  },
  {
   "cell_type": "code",
   "execution_count": null,
   "id": "c3ef46c0-3dcf-41bb-9117-678a738d2ec7",
   "metadata": {},
   "outputs": [],
   "source": []
  }
 ],
 "metadata": {
  "kernelspec": {
   "display_name": "Python 3 (ipykernel)",
   "language": "python",
   "name": "python3"
  },
  "language_info": {
   "codemirror_mode": {
    "name": "ipython",
    "version": 3
   },
   "file_extension": ".py",
   "mimetype": "text/x-python",
   "name": "python",
   "nbconvert_exporter": "python",
   "pygments_lexer": "ipython3",
   "version": "3.12.4"
  }
 },
 "nbformat": 4,
 "nbformat_minor": 5
}
